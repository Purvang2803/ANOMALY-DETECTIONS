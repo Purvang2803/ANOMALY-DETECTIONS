{
 "cells": [
  {
   "cell_type": "markdown",
   "id": "7e8f11bd",
   "metadata": {},
   "source": [
    "# Anomaly detection in time series "
   ]
  },
  {
   "cell_type": "code",
   "execution_count": 1,
   "id": "37c34d86",
   "metadata": {},
   "outputs": [],
   "source": [
    "import pandas as pd\n",
    "import numpy as np\n",
    "import matplotlib.pyplot as plt\n",
    "\n",
    "import warnings\n",
    "warnings.filterwarnings('ignore')\n",
    "\n",
    "%matplotlib inline"
   ]
  },
  {
   "cell_type": "code",
   "execution_count": 2,
   "id": "679515aa",
   "metadata": {},
   "outputs": [],
   "source": [
    "plt.rcParams[\"figure.figsize\"] = (9,6)"
   ]
  },
  {
   "cell_type": "markdown",
   "id": "a30dcd5c",
   "metadata": {},
   "source": [
    "## Read the data "
   ]
  },
  {
   "cell_type": "code",
   "execution_count": 4,
   "id": "df09e2d7",
   "metadata": {},
   "outputs": [
    {
     "data": {
      "text/html": [
       "<div>\n",
       "<style scoped>\n",
       "    .dataframe tbody tr th:only-of-type {\n",
       "        vertical-align: middle;\n",
       "    }\n",
       "\n",
       "    .dataframe tbody tr th {\n",
       "        vertical-align: top;\n",
       "    }\n",
       "\n",
       "    .dataframe thead th {\n",
       "        text-align: right;\n",
       "    }\n",
       "</style>\n",
       "<table border=\"1\" class=\"dataframe\">\n",
       "  <thead>\n",
       "    <tr style=\"text-align: right;\">\n",
       "      <th></th>\n",
       "      <th>timestamp</th>\n",
       "      <th>value</th>\n",
       "    </tr>\n",
       "  </thead>\n",
       "  <tbody>\n",
       "    <tr>\n",
       "      <th>0</th>\n",
       "      <td>2014-02-14 14:30:00</td>\n",
       "      <td>0.132</td>\n",
       "    </tr>\n",
       "    <tr>\n",
       "      <th>1</th>\n",
       "      <td>2014-02-14 14:35:00</td>\n",
       "      <td>0.134</td>\n",
       "    </tr>\n",
       "    <tr>\n",
       "      <th>2</th>\n",
       "      <td>2014-02-14 14:40:00</td>\n",
       "      <td>0.134</td>\n",
       "    </tr>\n",
       "    <tr>\n",
       "      <th>3</th>\n",
       "      <td>2014-02-14 14:45:00</td>\n",
       "      <td>0.134</td>\n",
       "    </tr>\n",
       "    <tr>\n",
       "      <th>4</th>\n",
       "      <td>2014-02-14 14:50:00</td>\n",
       "      <td>0.134</td>\n",
       "    </tr>\n",
       "  </tbody>\n",
       "</table>\n",
       "</div>"
      ],
      "text/plain": [
       "             timestamp  value\n",
       "0  2014-02-14 14:30:00  0.132\n",
       "1  2014-02-14 14:35:00  0.134\n",
       "2  2014-02-14 14:40:00  0.134\n",
       "3  2014-02-14 14:45:00  0.134\n",
       "4  2014-02-14 14:50:00  0.134"
      ]
     },
     "execution_count": 4,
     "metadata": {},
     "output_type": "execute_result"
    }
   ],
   "source": [
    "df = pd.read_csv('C:\\\\Users\\\\DELL8\\\\OneDrive\\\\Pictures\\\\cpu_utilization_d.csv')\n",
    "df.head()"
   ]
  },
  {
   "cell_type": "code",
   "execution_count": 5,
   "id": "426d786a",
   "metadata": {},
   "outputs": [],
   "source": [
    "\n",
    "\n",
    "anomalies_timestamp = [\n",
    "        \"2014-02-26 22:05:00\",\n",
    "        \"2014-02-27 17:15:00\"\n",
    "    ]"
   ]
  },
  {
   "cell_type": "code",
   "execution_count": 6,
   "id": "00c2f576",
   "metadata": {},
   "outputs": [
    {
     "data": {
      "text/html": [
       "<div>\n",
       "<style scoped>\n",
       "    .dataframe tbody tr th:only-of-type {\n",
       "        vertical-align: middle;\n",
       "    }\n",
       "\n",
       "    .dataframe tbody tr th {\n",
       "        vertical-align: top;\n",
       "    }\n",
       "\n",
       "    .dataframe thead th {\n",
       "        text-align: right;\n",
       "    }\n",
       "</style>\n",
       "<table border=\"1\" class=\"dataframe\">\n",
       "  <thead>\n",
       "    <tr style=\"text-align: right;\">\n",
       "      <th></th>\n",
       "      <th>timestamp</th>\n",
       "      <th>value</th>\n",
       "    </tr>\n",
       "  </thead>\n",
       "  <tbody>\n",
       "    <tr>\n",
       "      <th>0</th>\n",
       "      <td>2014-02-14 14:30:00</td>\n",
       "      <td>0.132</td>\n",
       "    </tr>\n",
       "    <tr>\n",
       "      <th>1</th>\n",
       "      <td>2014-02-14 14:35:00</td>\n",
       "      <td>0.134</td>\n",
       "    </tr>\n",
       "    <tr>\n",
       "      <th>2</th>\n",
       "      <td>2014-02-14 14:40:00</td>\n",
       "      <td>0.134</td>\n",
       "    </tr>\n",
       "    <tr>\n",
       "      <th>3</th>\n",
       "      <td>2014-02-14 14:45:00</td>\n",
       "      <td>0.134</td>\n",
       "    </tr>\n",
       "    <tr>\n",
       "      <th>4</th>\n",
       "      <td>2014-02-14 14:50:00</td>\n",
       "      <td>0.134</td>\n",
       "    </tr>\n",
       "  </tbody>\n",
       "</table>\n",
       "</div>"
      ],
      "text/plain": [
       "            timestamp  value\n",
       "0 2014-02-14 14:30:00  0.132\n",
       "1 2014-02-14 14:35:00  0.134\n",
       "2 2014-02-14 14:40:00  0.134\n",
       "3 2014-02-14 14:45:00  0.134\n",
       "4 2014-02-14 14:50:00  0.134"
      ]
     },
     "execution_count": 6,
     "metadata": {},
     "output_type": "execute_result"
    }
   ],
   "source": [
    "df['timestamp'] = pd.to_datetime(df['timestamp'])\n",
    "\n",
    "df.head()"
   ]
  },
  {
   "cell_type": "code",
   "execution_count": 7,
   "id": "8f8a7c80",
   "metadata": {},
   "outputs": [
    {
     "data": {
      "text/html": [
       "<div>\n",
       "<style scoped>\n",
       "    .dataframe tbody tr th:only-of-type {\n",
       "        vertical-align: middle;\n",
       "    }\n",
       "\n",
       "    .dataframe tbody tr th {\n",
       "        vertical-align: top;\n",
       "    }\n",
       "\n",
       "    .dataframe thead th {\n",
       "        text-align: right;\n",
       "    }\n",
       "</style>\n",
       "<table border=\"1\" class=\"dataframe\">\n",
       "  <thead>\n",
       "    <tr style=\"text-align: right;\">\n",
       "      <th></th>\n",
       "      <th>timestamp</th>\n",
       "      <th>value</th>\n",
       "      <th>is_anomaly</th>\n",
       "    </tr>\n",
       "  </thead>\n",
       "  <tbody>\n",
       "    <tr>\n",
       "      <th>0</th>\n",
       "      <td>2014-02-14 14:30:00</td>\n",
       "      <td>0.132</td>\n",
       "      <td>1</td>\n",
       "    </tr>\n",
       "    <tr>\n",
       "      <th>1</th>\n",
       "      <td>2014-02-14 14:35:00</td>\n",
       "      <td>0.134</td>\n",
       "      <td>1</td>\n",
       "    </tr>\n",
       "    <tr>\n",
       "      <th>2</th>\n",
       "      <td>2014-02-14 14:40:00</td>\n",
       "      <td>0.134</td>\n",
       "      <td>1</td>\n",
       "    </tr>\n",
       "    <tr>\n",
       "      <th>3</th>\n",
       "      <td>2014-02-14 14:45:00</td>\n",
       "      <td>0.134</td>\n",
       "      <td>1</td>\n",
       "    </tr>\n",
       "    <tr>\n",
       "      <th>4</th>\n",
       "      <td>2014-02-14 14:50:00</td>\n",
       "      <td>0.134</td>\n",
       "      <td>1</td>\n",
       "    </tr>\n",
       "  </tbody>\n",
       "</table>\n",
       "</div>"
      ],
      "text/plain": [
       "            timestamp  value  is_anomaly\n",
       "0 2014-02-14 14:30:00  0.132           1\n",
       "1 2014-02-14 14:35:00  0.134           1\n",
       "2 2014-02-14 14:40:00  0.134           1\n",
       "3 2014-02-14 14:45:00  0.134           1\n",
       "4 2014-02-14 14:50:00  0.134           1"
      ]
     },
     "execution_count": 7,
     "metadata": {},
     "output_type": "execute_result"
    }
   ],
   "source": [
    "df['is_anomaly'] = 1\n",
    "\n",
    "for each in anomalies_timestamp:\n",
    "    df.loc[df['timestamp'] == each, 'is_anomaly'] = -1\n",
    "    \n",
    "df.head()"
   ]
  },
  {
   "cell_type": "code",
   "execution_count": 8,
   "id": "4da47af7",
   "metadata": {},
   "outputs": [],
   "source": [
    "anomaly_df = df.loc[df['is_anomaly'] == -1]\n",
    "inlier_df = df.loc[df['is_anomaly'] == 1]"
   ]
  },
  {
   "cell_type": "code",
   "execution_count": 12,
   "id": "be9bd160",
   "metadata": {},
   "outputs": [
    {
     "data": {
      "image/png": "[encoded data removed]",
      "text/plain": [
       "<Figure size 900x600 with 1 Axes>"
      ]
     },
     "metadata": {},
     "output_type": "display_data"
    }
   ],
   "source": [
    "fig, ax = plt.subplots()\n",
    "\n",
    "ax.scatter(inlier_df.index, inlier_df['value'], color='blue', s=1, label='Inlier')\n",
    "ax.scatter(anomaly_df.index, anomaly_df['value'], color='red', label='Anomaly')\n",
    "ax.set_xlabel('Time')\n",
    "ax.set_ylabel('CPU usage')\n",
    "ax.legend(loc=2)\n",
    "\n",
    "plt.grid(False)\n",
    "fig.autofmt_xdate()\n",
    "plt.tight_layout()\n",
    "plt.show()"
   ]
  },
  {
   "cell_type": "markdown",
   "id": "362c3adf-4e61-4f41-b49a-cfadd6ba17dd",
   "metadata": {},
   "source": [
    "**Observation:**  \n",
    "The scatter plot displays CPU usage over time, with blue points representing normal (inlier) usage and red points indicating anomalies. The anomalies are significantly distinct from normal data points, suggesting deviations in CPU performance.\n",
    "\n",
    "**Conclusion:**  \n",
    "The detected anomalies likely indicate irregular CPU activity, possibly due to system overload, unusual application behavior, or external interference. Further investigation is required to determine the root cause and take corrective actions if necessary."
   ]
  },
  {
   "cell_type": "markdown",
   "id": "95ac3348",
   "metadata": {},
   "source": [
    "## Baseline: median absolute deviation (MAD) "
   ]
  },
  {
   "cell_type": "code",
   "execution_count": 15,
   "id": "d045b558",
   "metadata": {},
   "outputs": [
    {
     "data": {
      "image/png": "[encoded data removed]",
      "text/plain": [
       "<Figure size 900x600 with 1 Axes>"
      ]
     },
     "metadata": {},
     "output_type": "display_data"
    }
   ],
   "source": [
    "import seaborn as sns\n",
    "\n",
    "sns.kdeplot(df['value']);\n",
    "plt.grid(False)\n",
    "plt.axvline(0.134, 0, 1, c='black', ls='--')\n",
    "plt.tight_layout()\n",
    "plt.show()"
   ]
  },
  {
   "cell_type": "markdown",
   "id": "da6260d9-890d-4f73-a84e-e3160334f7a9",
   "metadata": {},
   "source": [
    "### **Observation:**  \n",
    "The KDE plot illustrates the distribution of CPU usage values, showing a peak where most values are concentrated. The vertical dashed line at `0.134` may represent a key statistical threshold, such as the median CPU usage or a boundary for anomaly detection.\n",
    "\n",
    "### **Conclusion:**  \n",
    "If `0.134` represents a reference point like the median, it indicates that a significant portion of the data falls below this threshold. If it is an anomaly threshold, CPU usage values beyond this point may warrant further investigation. The KDE plot helps in understanding the normal operating range of CPU utilization."
   ]
  },
  {
   "cell_type": "code",
   "execution_count": 16,
   "id": "faf2f582",
   "metadata": {},
   "outputs": [
    {
     "name": "stdout",
     "output_type": "stream",
     "text": [
      "0.134\n",
      "0.0020000000000000018\n"
     ]
    }
   ],
   "source": [
    "from scipy.stats import median_abs_deviation\n",
    "\n",
    "mad = median_abs_deviation(df['value'])\n",
    "median = np.median(df['value'])\n",
    "\n",
    "print(median)\n",
    "print(mad)\n",
    "\n",
    "def compute_robust_z_score(x):\n",
    "    return .6745*(x-median)/mad"
   ]
  },
  {
   "cell_type": "code",
   "execution_count": 17,
   "id": "bce12ea8",
   "metadata": {},
   "outputs": [
    {
     "data": {
      "text/html": [
       "<div>\n",
       "<style scoped>\n",
       "    .dataframe tbody tr th:only-of-type {\n",
       "        vertical-align: middle;\n",
       "    }\n",
       "\n",
       "    .dataframe tbody tr th {\n",
       "        vertical-align: top;\n",
       "    }\n",
       "\n",
       "    .dataframe thead th {\n",
       "        text-align: right;\n",
       "    }\n",
       "</style>\n",
       "<table border=\"1\" class=\"dataframe\">\n",
       "  <thead>\n",
       "    <tr style=\"text-align: right;\">\n",
       "      <th></th>\n",
       "      <th>timestamp</th>\n",
       "      <th>value</th>\n",
       "      <th>is_anomaly</th>\n",
       "      <th>z-score</th>\n",
       "    </tr>\n",
       "  </thead>\n",
       "  <tbody>\n",
       "    <tr>\n",
       "      <th>0</th>\n",
       "      <td>2014-02-14 14:30:00</td>\n",
       "      <td>0.132</td>\n",
       "      <td>1</td>\n",
       "      <td>-0.6745</td>\n",
       "    </tr>\n",
       "    <tr>\n",
       "      <th>1</th>\n",
       "      <td>2014-02-14 14:35:00</td>\n",
       "      <td>0.134</td>\n",
       "      <td>1</td>\n",
       "      <td>0.0000</td>\n",
       "    </tr>\n",
       "    <tr>\n",
       "      <th>2</th>\n",
       "      <td>2014-02-14 14:40:00</td>\n",
       "      <td>0.134</td>\n",
       "      <td>1</td>\n",
       "      <td>0.0000</td>\n",
       "    </tr>\n",
       "    <tr>\n",
       "      <th>3</th>\n",
       "      <td>2014-02-14 14:45:00</td>\n",
       "      <td>0.134</td>\n",
       "      <td>1</td>\n",
       "      <td>0.0000</td>\n",
       "    </tr>\n",
       "    <tr>\n",
       "      <th>4</th>\n",
       "      <td>2014-02-14 14:50:00</td>\n",
       "      <td>0.134</td>\n",
       "      <td>1</td>\n",
       "      <td>0.0000</td>\n",
       "    </tr>\n",
       "  </tbody>\n",
       "</table>\n",
       "</div>"
      ],
      "text/plain": [
       "            timestamp  value  is_anomaly  z-score\n",
       "0 2014-02-14 14:30:00  0.132           1  -0.6745\n",
       "1 2014-02-14 14:35:00  0.134           1   0.0000\n",
       "2 2014-02-14 14:40:00  0.134           1   0.0000\n",
       "3 2014-02-14 14:45:00  0.134           1   0.0000\n",
       "4 2014-02-14 14:50:00  0.134           1   0.0000"
      ]
     },
     "execution_count": 17,
     "metadata": {},
     "output_type": "execute_result"
    }
   ],
   "source": [
    "df['z-score'] = df['value'].apply(compute_robust_z_score)\n",
    "\n",
    "df.head()"
   ]
  },
  {
   "cell_type": "code",
   "execution_count": 18,
   "id": "92f79fd2",
   "metadata": {},
   "outputs": [],
   "source": [
    "df['baseline'] = 1\n",
    "\n",
    "df.loc[df['z-score'] >= 3.5, 'baseline'] = -1\n",
    "df.loc[df['z-score'] <=-3.5, 'baseline'] = -1"
   ]
  },
  {
   "cell_type": "markdown",
   "id": "27fbafd8",
   "metadata": {},
   "source": [
    "### Evaluation "
   ]
  },
  {
   "cell_type": "code",
   "execution_count": 22,
   "id": "2a5e9438",
   "metadata": {},
   "outputs": [
    {
     "data": {
      "image/png": "[encoded data removed]",
      "text/plain": [
       "<Figure size 900x600 with 2 Axes>"
      ]
     },
     "metadata": {},
     "output_type": "display_data"
    }
   ],
   "source": [
    "from sklearn.metrics import confusion_matrix, ConfusionMatrixDisplay\n",
    "\n",
    "cm = confusion_matrix(df['is_anomaly'], df['baseline'], labels=[1, -1])\n",
    "\n",
    "disp_cm = ConfusionMatrixDisplay(cm, display_labels=[1, -1])\n",
    "\n",
    "disp_cm.plot();\n",
    "\n",
    "plt.grid(False)\n",
    "plt.tight_layout()\n",
    "plt.show(1)\n"
   ]
  },
  {
   "cell_type": "markdown",
   "id": "03ac4d58-d5b5-46f4-bd6a-e5d5d8dac31f",
   "metadata": {},
   "source": [
    "### **Observation:**  \n",
    "The confusion matrix visually represents the classification performance of the anomaly detection model. It compares actual anomalies with predicted ones, indicating true positives, false positives, true negatives, and false negatives. The matrix helps in assessing how well the model identifies anomalies versus normal CPU usage.  \n",
    "\n",
    "### **Conclusion:**  \n",
    "The model's effectiveness depends on the balance between correctly detected anomalies and misclassifications. A high number of false positives or false negatives suggests the need for tuning detection thresholds or improving the anomaly detection algorithm."
   ]
  },
  {
   "cell_type": "markdown",
   "id": "5ea210c8",
   "metadata": {},
   "source": [
    "## Isolation forest "
   ]
  },
  {
   "cell_type": "code",
   "execution_count": 23,
   "id": "1ab2f59a-c6aa-4ce7-96c6-1be555a241c1",
   "metadata": {},
   "outputs": [],
   "source": [
    "import random\n",
    "import numpy as np\n",
    "\n",
    "class IsolationTree:\n",
    "    def __init__(self, height_limit):\n",
    "        self.height_limit = height_limit\n",
    "        self.split_attribute = None\n",
    "        self.split_value = None\n",
    "        self.left = None\n",
    "        self.right = None\n",
    "        self.size = 0\n",
    "\n",
    "    def fit(self, X, current_height=0):\n",
    "        self.size = len(X)\n",
    "        if current_height >= self.height_limit or self.size <= 1:\n",
    "            return\n",
    "        \n",
    "        self.split_attribute = 0  # Since we have only one feature\n",
    "        min_val, max_val = np.min(X), np.max(X)\n",
    "        if min_val == max_val:\n",
    "            return\n",
    "        \n",
    "        self.split_value = random.uniform(min_val, max_val)\n",
    "        left_X = X[X < self.split_value]\n",
    "        right_X = X[X >= self.split_value]\n",
    "        \n",
    "        self.left = IsolationTree(self.height_limit)\n",
    "        self.left.fit(left_X, current_height + 1)\n",
    "        \n",
    "        self.right = IsolationTree(self.height_limit)\n",
    "        self.right.fit(right_X, current_height + 1)\n",
    "    \n",
    "    def path_length(self, x, current_height=0):\n",
    "        if self.left is None or self.right is None:\n",
    "            return current_height + np.log2(self.size + 1)\n",
    "        \n",
    "        if x < self.split_value:\n",
    "            return self.left.path_length(x, current_height + 1)\n",
    "        else:\n",
    "            return self.right.path_length(x, current_height + 1)\n",
    "\n",
    "\n",
    "class IsolationForest:\n",
    "    def __init__(self, n_trees=100, subsample_size=256):\n",
    "        self.n_trees = n_trees\n",
    "        self.subsample_size = subsample_size\n",
    "        self.trees = []\n",
    "        \n",
    "    def fit(self, X):\n",
    "        X = np.array(X).flatten()\n",
    "        self.trees = []\n",
    "        height_limit = np.ceil(np.log2(self.subsample_size))\n",
    "        for _ in range(self.n_trees):\n",
    "            sample = np.random.choice(X, size=min(self.subsample_size, len(X)), replace=False)\n",
    "            tree = IsolationTree(height_limit)\n",
    "            tree.fit(sample)\n",
    "            self.trees.append(tree)\n",
    "    \n",
    "    def anomaly_score(self, X):\n",
    "        X = np.array(X).flatten()\n",
    "        scores = np.zeros(len(X))\n",
    "        c = 2 * (np.log(len(X) - 1) + 0.5772156649) - (2 * (len(X) - 1) / len(X))\n",
    "        for i, x in enumerate(X):\n",
    "            avg_path_length = np.mean([tree.path_length(x) for tree in self.trees])\n",
    "            scores[i] = 2 ** -(avg_path_length / c)\n",
    "        return scores\n",
    "    \n",
    "    def predict(self, X, threshold=0.5):\n",
    "        scores = self.anomaly_score(X)\n",
    "        return np.where(scores > threshold, -1, 1)  # -1 for anomaly, 1 for normal\n",
    "\n",
    "# Example Usage:\n",
    "train = df[:3550]['value'].values.reshape(-1,1)\n",
    "test = df[3550:]['value'].values.reshape(-1,1)\n",
    "\n"
   ]
  },
  {
   "cell_type": "code",
   "execution_count": 24,
   "id": "9da53ff9-71d2-4c6c-8b8d-d66d25a39e00",
   "metadata": {},
   "outputs": [],
   "source": [
    "iso_forest = IsolationForest(n_trees=100, subsample_size=256)\n",
    "iso_forest.fit(train)\n",
    "\n",
    "anomaly_scores = iso_forest.anomaly_score(test)\n",
    "predictions = iso_forest.predict(test)\n"
   ]
  },
  {
   "cell_type": "code",
   "execution_count": 27,
   "id": "c375725e-d8ca-4109-9741-ab77fa125fc0",
   "metadata": {},
   "outputs": [
    {
     "data": {
      "text/plain": [
       "array([0.48762528, 0.59235637, 0.53240002, 0.48762528, 0.53240002,\n",
       "       0.53240002, 0.48762528, 0.48762528, 0.53240002, 0.48762528,\n",
       "       0.59235637, 0.74881211, 0.53240002, 0.59235637, 0.48762528,\n",
       "       0.48762528, 0.53240002, 0.59235637, 0.48762528, 0.63479545,\n",
       "       0.53240002, 0.48762528, 0.59235637, 0.53240002, 0.59235637,\n",
       "       0.48762528, 0.53240002, 0.59235637, 0.53240002, 0.48762528,\n",
       "       0.59235637, 0.48762528, 0.53240002, 0.48762528, 0.59235637,\n",
       "       0.48762528, 0.48762528, 0.48762528, 0.6551887 , 0.48762528,\n",
       "       0.48762528, 0.59235637, 0.48762528, 0.48762528, 0.48762528,\n",
       "       0.6551887 , 0.48762528, 0.70930075, 0.59235637, 0.48762528,\n",
       "       0.59235637, 0.48762528, 0.48762528, 0.59235637, 0.53240002,\n",
       "       0.53240002, 0.48762528, 0.63479545, 0.48762528, 0.6551887 ,\n",
       "       0.48762528, 0.53240002, 0.6551887 , 0.48762528, 0.82234695,\n",
       "       0.53240002, 0.59235637, 0.63479545, 0.48762528, 0.48762528,\n",
       "       0.6551887 , 0.48762528, 0.53240002, 0.6551887 , 0.48762528,\n",
       "       0.59235637, 0.48762528, 0.53240002, 0.48762528, 0.48762528,\n",
       "       0.59235637, 0.48762528, 0.63479545, 0.48762528, 0.6551887 ,\n",
       "       0.48762528, 0.59235637, 0.48762528, 0.48762528, 0.63479545,\n",
       "       0.59235637, 0.48762528, 0.48762528, 0.48762528, 0.59235637,\n",
       "       0.53240002, 0.53240002, 0.59235637, 0.67726673, 0.59235637,\n",
       "       0.48762528, 0.48762528, 0.59235637, 0.6998305 , 0.48762528,\n",
       "       0.59235637, 0.48762528, 0.53240002, 0.53240002, 0.48762528,\n",
       "       0.59235637, 0.53240002, 0.48762528, 0.48762528, 0.48762528,\n",
       "       0.53240002, 0.53240002, 0.48762528, 0.59235637, 0.48762528,\n",
       "       0.6551887 , 0.70930075, 0.59235637, 0.48762528, 0.59235637,\n",
       "       0.53240002, 0.59235637, 0.6998305 , 0.48762528, 0.6551887 ,\n",
       "       0.48762528, 0.53240002, 0.53240002, 0.48762528, 0.48762528,\n",
       "       0.67726673, 0.48762528, 0.63479545, 0.48762528, 0.48762528,\n",
       "       0.63479545, 0.48762528, 0.48762528, 0.59235637, 0.48762528,\n",
       "       0.53240002, 0.59235637, 0.48762528, 0.59235637, 0.53240002,\n",
       "       0.48762528, 0.53240002, 0.63479545, 0.59235637, 0.48762528,\n",
       "       0.48762528, 0.6551887 , 0.63479545, 0.48762528, 0.48762528,\n",
       "       0.6551887 , 0.48762528, 0.59235637, 0.48762528, 0.70930075,\n",
       "       0.59235637, 0.53240002, 0.53240002, 0.59235637, 0.48762528,\n",
       "       0.48762528, 0.59235637, 0.48762528, 0.53240002, 0.59235637,\n",
       "       0.70930075, 0.59235637, 0.53240002, 0.48762528, 0.48762528,\n",
       "       0.48762528, 0.6551887 , 0.48762528, 0.48762528, 0.53240002,\n",
       "       0.6998305 , 0.48762528, 0.53240002, 0.53240002, 0.59235637,\n",
       "       0.48762528, 0.48762528, 0.48762528, 0.59235637, 0.48762528,\n",
       "       0.53240002, 0.48762528, 0.70930075, 0.53240002, 0.67726673,\n",
       "       0.53240002, 0.48762528, 0.59235637, 0.53240002, 0.48762528,\n",
       "       0.59235637, 0.48762528, 0.48762528, 0.48762528, 0.63479545,\n",
       "       0.48762528, 0.53240002, 0.48762528, 0.48762528, 0.48762528,\n",
       "       0.48762528, 0.53240002, 0.59235637, 0.48762528, 0.48762528,\n",
       "       0.48762528, 0.63479545, 0.48762528, 0.53240002, 0.48762528,\n",
       "       0.48762528, 0.48762528, 0.76712811, 0.74881211, 0.48762528,\n",
       "       0.48762528, 0.48762528, 0.48762528, 0.53240002, 0.53240002,\n",
       "       0.48762528, 0.53240002, 0.48762528, 0.53240002, 0.48762528,\n",
       "       0.48762528, 0.59235637, 0.53240002, 0.53240002, 0.48762528,\n",
       "       0.48762528, 0.53240002, 0.48762528, 0.48762528, 0.48762528,\n",
       "       0.48762528, 0.59235637, 0.48762528, 0.48762528, 0.48762528,\n",
       "       0.48762528, 0.59235637, 0.48762528, 0.48762528, 0.48762528,\n",
       "       0.48762528, 0.53240002, 0.48762528, 0.59235637, 0.48762528,\n",
       "       0.48762528, 0.48762528, 0.48762528, 0.53240002, 0.53240002,\n",
       "       0.53240002, 0.53240002, 0.53240002, 0.53240002, 0.59235637,\n",
       "       0.48762528, 0.63479545, 0.53240002, 0.53240002, 0.59235637,\n",
       "       0.48762528, 0.59235637, 0.53240002, 0.53240002, 0.53240002,\n",
       "       0.48762528, 0.59235637, 0.48762528, 0.53240002, 0.59235637,\n",
       "       0.53240002, 0.48762528, 0.59235637, 0.48762528, 0.63479545,\n",
       "       0.48762528, 0.48762528, 0.48762528, 0.6551887 , 0.48762528,\n",
       "       0.48762528, 0.53240002, 0.6551887 , 0.48762528, 0.48762528,\n",
       "       0.59235637, 0.48762528, 0.65119751, 0.48762528, 0.48762528,\n",
       "       0.59235637, 0.53240002, 0.48762528, 0.48762528, 0.59235637,\n",
       "       0.48762528, 0.53240002, 0.59235637, 0.53240002, 0.53240002,\n",
       "       0.53240002, 0.48762528, 0.59235637, 0.48762528, 0.48762528,\n",
       "       0.67726673, 0.59235637, 0.48762528, 0.48762528, 0.48762528,\n",
       "       0.6551887 , 0.48762528, 0.53240002, 0.53240002, 0.6551887 ,\n",
       "       0.48762528, 0.59235637, 0.48762528, 0.48762528, 0.48762528,\n",
       "       0.6551887 , 0.48762528, 0.48762528, 0.48762528, 0.48762528,\n",
       "       0.53240002, 0.59235637, 0.48762528, 0.82313222, 0.53240002,\n",
       "       0.6551887 , 0.53240002, 0.53240002, 0.53240002, 0.48762528,\n",
       "       0.48762528, 0.48762528, 0.59235637, 0.53240002, 0.48762528,\n",
       "       0.59235637, 0.48762528, 0.59235637, 0.48762528, 0.48762528,\n",
       "       0.53240002, 0.59235637, 0.48762528, 0.53240002, 0.48762528,\n",
       "       0.59235637, 0.48762528, 0.48762528, 0.48762528, 0.59235637,\n",
       "       0.48762528, 0.53240002, 0.59235637, 0.53240002, 0.53240002,\n",
       "       0.53240002, 0.53240002, 0.48762528, 0.59235637, 0.48762528,\n",
       "       0.48762528, 0.48762528, 0.48762528, 0.59235637, 0.48762528,\n",
       "       0.48762528, 0.48762528, 0.48762528, 0.59235637, 0.48762528,\n",
       "       0.48762528, 0.53240002, 0.59235637, 0.48762528, 0.63479545,\n",
       "       0.59235637, 0.48762528, 0.48762528, 0.48762528, 0.59235637,\n",
       "       0.53240002, 0.48762528, 0.59235637, 0.63479545, 0.48762528,\n",
       "       0.53240002, 0.48762528, 0.6551887 , 0.53240002, 0.48762528,\n",
       "       0.48762528, 0.63479545, 0.48762528, 0.53240002, 0.67726673,\n",
       "       0.53240002, 0.53240002, 0.48762528, 0.48762528, 0.59235637,\n",
       "       0.48762528, 0.48762528, 0.6998305 , 0.59235637, 0.63479545,\n",
       "       0.48762528, 0.6551887 , 0.63479545, 0.53240002, 0.48762528,\n",
       "       0.59235637, 0.48762528, 0.48762528, 0.48762528, 0.63479545,\n",
       "       0.48762528, 0.53240002, 0.53240002, 0.48762528, 0.48762528,\n",
       "       0.63479545, 0.59235637, 0.6998305 , 0.6551887 , 0.53240002,\n",
       "       0.48762528, 0.48762528, 0.48762528, 0.59235637, 0.48762528,\n",
       "       0.48762528, 0.59235637, 0.48762528, 0.48762528, 0.53240002,\n",
       "       0.6551887 , 0.48762528, 0.53240002, 0.48762528, 0.48762528,\n",
       "       0.53240002, 0.59235637, 0.48762528, 0.63479545, 0.59235637,\n",
       "       0.48762528, 0.48762528, 0.53240002, 0.53240002, 0.48762528,\n",
       "       0.48762528, 0.53240002, 0.53240002, 0.48762528, 0.48762528,\n",
       "       0.48762528, 0.48762528])"
      ]
     },
     "execution_count": 27,
     "metadata": {},
     "output_type": "execute_result"
    }
   ],
   "source": [
    "anomaly_scores"
   ]
  },
  {
   "cell_type": "code",
   "execution_count": 31,
   "id": "18da3719",
   "metadata": {},
   "outputs": [
    {
     "data": {
      "text/plain": [
       "array([ 1, -1, -1,  1, -1, -1,  1,  1, -1,  1, -1, -1, -1, -1,  1,  1, -1,\n",
       "       -1,  1, -1, -1,  1, -1, -1, -1,  1, -1, -1, -1,  1, -1,  1, -1,  1,\n",
       "       -1,  1,  1,  1, -1,  1,  1, -1,  1,  1,  1, -1,  1, -1, -1,  1, -1,\n",
       "        1,  1, -1, -1, -1,  1, -1,  1, -1,  1, -1, -1,  1, -1, -1, -1, -1,\n",
       "        1,  1, -1,  1, -1, -1,  1, -1,  1, -1,  1,  1, -1,  1, -1,  1, -1,\n",
       "        1, -1,  1,  1, -1, -1,  1,  1,  1, -1, -1, -1, -1, -1, -1,  1,  1,\n",
       "       -1, -1,  1, -1,  1, -1, -1,  1, -1, -1,  1,  1,  1, -1, -1,  1, -1,\n",
       "        1, -1, -1, -1,  1, -1, -1, -1, -1,  1, -1,  1, -1, -1,  1,  1, -1,\n",
       "        1, -1,  1,  1, -1,  1,  1, -1,  1, -1, -1,  1, -1, -1,  1, -1, -1,\n",
       "       -1,  1,  1, -1, -1,  1,  1, -1,  1, -1,  1, -1, -1, -1, -1, -1,  1,\n",
       "        1, -1,  1, -1, -1, -1, -1, -1,  1,  1,  1, -1,  1,  1, -1, -1,  1,\n",
       "       -1, -1, -1,  1,  1,  1, -1,  1, -1,  1, -1, -1, -1, -1,  1, -1, -1,\n",
       "        1, -1,  1,  1,  1, -1,  1, -1,  1,  1,  1,  1, -1, -1,  1,  1,  1,\n",
       "       -1,  1, -1,  1,  1,  1, -1, -1,  1,  1,  1,  1, -1, -1,  1, -1,  1,\n",
       "       -1,  1,  1, -1, -1, -1,  1,  1, -1,  1,  1,  1,  1, -1,  1,  1,  1,\n",
       "        1, -1,  1,  1,  1,  1, -1,  1, -1,  1,  1,  1,  1, -1, -1, -1, -1,\n",
       "       -1, -1, -1,  1, -1, -1, -1, -1,  1, -1, -1, -1, -1,  1, -1,  1, -1,\n",
       "       -1, -1,  1, -1,  1, -1,  1,  1,  1, -1,  1,  1, -1, -1,  1,  1, -1,\n",
       "        1, -1,  1,  1, -1, -1,  1,  1, -1,  1, -1, -1, -1, -1, -1,  1, -1,\n",
       "        1,  1, -1, -1,  1,  1,  1, -1,  1, -1, -1, -1,  1, -1,  1,  1,  1,\n",
       "       -1,  1,  1,  1,  1, -1, -1,  1, -1, -1, -1, -1, -1, -1,  1,  1,  1,\n",
       "       -1, -1,  1, -1,  1, -1,  1,  1, -1, -1,  1, -1,  1, -1,  1,  1,  1,\n",
       "       -1,  1, -1, -1, -1, -1, -1, -1,  1, -1,  1,  1,  1,  1, -1,  1,  1,\n",
       "        1,  1, -1,  1,  1, -1, -1,  1, -1, -1,  1,  1,  1, -1, -1,  1, -1,\n",
       "       -1,  1, -1,  1, -1, -1,  1,  1, -1,  1, -1, -1, -1, -1,  1,  1, -1,\n",
       "        1,  1, -1, -1, -1,  1, -1, -1, -1,  1, -1,  1,  1,  1, -1,  1, -1,\n",
       "       -1,  1,  1, -1, -1, -1, -1, -1,  1,  1,  1, -1,  1,  1, -1,  1,  1,\n",
       "       -1, -1,  1, -1,  1,  1, -1, -1,  1, -1, -1,  1,  1, -1, -1,  1,  1,\n",
       "       -1, -1,  1,  1,  1,  1])"
      ]
     },
     "execution_count": 31,
     "metadata": {},
     "output_type": "execute_result"
    }
   ],
   "source": [
    "preds_iso_forest = iso_forest.predict(test.flatten())\n",
    "preds_iso_forest"
   ]
  },
  {
   "cell_type": "markdown",
   "id": "cfe72649",
   "metadata": {},
   "source": [
    "### Evaluation "
   ]
  },
  {
   "cell_type": "code",
   "execution_count": 36,
   "id": "d9e38d0d",
   "metadata": {},
   "outputs": [
    {
     "data": {
      "image/png": "[encoded data removed]",
      "text/plain": [
       "<Figure size 900x600 with 2 Axes>"
      ]
     },
     "metadata": {},
     "output_type": "display_data"
    }
   ],
   "source": [
    "actual_labels = df[3550:]['is_anomaly'].values  # Assuming 'is_anomaly' column exists\n",
    "cm = confusion_matrix(actual_labels, preds_iso_forest, labels=[1, -1])\n",
    "\n",
    "# Plot Confusion Matrix\n",
    "disp_cm = ConfusionMatrixDisplay(cm, display_labels=[1, -1])\n",
    "disp_cm.plot()\n",
    "plt.grid(False)\n",
    "plt.tight_layout()\n",
    "plt.show()"
   ]
  },
  {
   "cell_type": "markdown",
   "id": "81d2225d-d15c-4c9c-8c37-2a0e6f6ad412",
   "metadata": {},
   "source": [
    "### **Observation:**  \n",
    "The confusion matrix visually represents how well the Isolation Forest model detects CPU usage anomalies. It shows the number of correctly identified anomalies (true positives), normal instances (true negatives), and misclassifications (false positives and false negatives). The distribution of these values helps assess the model’s reliability in identifying unusual CPU behavior.  \n",
    "\n",
    "### **Conclusion:**  \n",
    "The model's performance depends on the ratio of correct classifications to misclassifications. If the false positive or false negative rates are high, it may indicate the need for parameter tuning or an alternative detection approach. Analyzing the confusion matrix helps refine the model to improve anomaly detection accuracy."
   ]
  },
  {
   "cell_type": "markdown",
   "id": "a6648be1",
   "metadata": {},
   "source": [
    "## Local outlier factor (LOF) "
   ]
  },
  {
   "cell_type": "code",
   "execution_count": 37,
   "id": "87188535",
   "metadata": {},
   "outputs": [],
   "source": [
    "class LocalOutlierFactor:\n",
    "    def __init__(self, contamination=0.1, n_neighbors=20):\n",
    "        self.contamination = contamination\n",
    "        self.n_neighbors = n_neighbors\n",
    "        self.X_train = None\n",
    "    \n",
    "    def fit(self, X):\n",
    "        self.X_train = np.array(X).flatten()\n",
    "    \n",
    "    def predict(self, X):\n",
    "        X = np.array(X).flatten()\n",
    "        n = len(self.X_train)\n",
    "        distances = np.zeros((len(X), n))\n",
    "        \n",
    "        for i in range(len(X)):\n",
    "            distances[i] = np.abs(self.X_train - X[i])\n",
    "        \n",
    "        k_distances = np.sort(distances, axis=1)[:, :self.n_neighbors]\n",
    "        reachability_dist = np.maximum(k_distances, k_distances[:, -1][:, np.newaxis])\n",
    "        local_reach_density = 1 / (np.mean(reachability_dist, axis=1) + 1e-10)\n",
    "        lof_scores = np.mean(local_reach_density) / (local_reach_density + 1e-10)\n",
    "        \n",
    "        threshold = np.percentile(lof_scores, 100 * (1 - self.contamination))\n",
    "        return np.where(lof_scores > threshold, -1, 1)  # -1 for anomaly, 1 for normal"
   ]
  },
  {
   "cell_type": "code",
   "execution_count": 38,
   "id": "ad4932b2-049f-45d8-a786-c471268950da",
   "metadata": {},
   "outputs": [],
   "source": [
    "lof = LocalOutlierFactor(contamination=1/len(train), n_neighbors=20)\n",
    "lof.fit(train)"
   ]
  },
  {
   "cell_type": "code",
   "execution_count": 39,
   "id": "5441f006",
   "metadata": {},
   "outputs": [
    {
     "data": {
      "text/plain": [
       "array([ 1,  1,  1,  1,  1,  1,  1,  1,  1,  1,  1,  1,  1,  1,  1,  1,  1,\n",
       "        1,  1,  1,  1,  1,  1,  1,  1,  1,  1,  1,  1,  1,  1,  1,  1,  1,\n",
       "        1,  1,  1,  1,  1,  1,  1,  1,  1,  1,  1,  1,  1,  1,  1,  1,  1,\n",
       "        1,  1,  1,  1,  1,  1,  1,  1,  1,  1,  1,  1,  1,  1,  1,  1,  1,\n",
       "        1,  1,  1,  1,  1,  1,  1,  1,  1,  1,  1,  1,  1,  1,  1,  1,  1,\n",
       "        1,  1,  1,  1,  1,  1,  1,  1,  1,  1,  1,  1,  1,  1,  1,  1,  1,\n",
       "        1,  1,  1,  1,  1,  1,  1,  1,  1,  1,  1,  1,  1,  1,  1,  1,  1,\n",
       "        1,  1,  1,  1,  1,  1,  1,  1,  1,  1,  1,  1,  1,  1,  1,  1,  1,\n",
       "        1,  1,  1,  1,  1,  1,  1,  1,  1,  1,  1,  1,  1,  1,  1,  1,  1,\n",
       "        1,  1,  1,  1,  1,  1,  1,  1,  1,  1,  1,  1,  1,  1,  1,  1,  1,\n",
       "        1,  1,  1,  1,  1,  1,  1,  1,  1,  1,  1,  1,  1,  1,  1,  1,  1,\n",
       "        1,  1,  1,  1,  1,  1,  1,  1,  1,  1,  1,  1,  1,  1,  1,  1,  1,\n",
       "        1,  1,  1,  1,  1,  1,  1,  1,  1,  1,  1,  1,  1,  1,  1,  1,  1,\n",
       "        1,  1,  1,  1,  1,  1,  1,  1,  1,  1,  1,  1,  1,  1,  1,  1,  1,\n",
       "        1,  1,  1,  1,  1,  1,  1,  1,  1,  1,  1,  1,  1,  1,  1,  1,  1,\n",
       "        1,  1,  1,  1,  1,  1,  1,  1,  1,  1,  1,  1,  1,  1,  1,  1,  1,\n",
       "        1,  1,  1,  1,  1,  1,  1,  1,  1,  1,  1,  1,  1,  1,  1,  1,  1,\n",
       "        1,  1,  1,  1,  1,  1,  1,  1,  1,  1,  1,  1,  1,  1,  1,  1,  1,\n",
       "        1,  1,  1,  1,  1,  1,  1,  1,  1,  1,  1,  1,  1,  1,  1,  1,  1,\n",
       "        1,  1,  1,  1,  1,  1,  1,  1,  1,  1,  1,  1,  1,  1,  1,  1,  1,\n",
       "        1,  1,  1,  1,  1,  1,  1,  1, -1,  1,  1,  1,  1,  1,  1,  1,  1,\n",
       "        1,  1,  1,  1,  1,  1,  1,  1,  1,  1,  1,  1,  1,  1,  1,  1,  1,\n",
       "        1,  1,  1,  1,  1,  1,  1,  1,  1,  1,  1,  1,  1,  1,  1,  1,  1,\n",
       "        1,  1,  1,  1,  1,  1,  1,  1,  1,  1,  1,  1,  1,  1,  1,  1,  1,\n",
       "        1,  1,  1,  1,  1,  1,  1,  1,  1,  1,  1,  1,  1,  1,  1,  1,  1,\n",
       "        1,  1,  1,  1,  1,  1,  1,  1,  1,  1,  1,  1,  1,  1,  1,  1,  1,\n",
       "        1,  1,  1,  1,  1,  1,  1,  1,  1,  1,  1,  1,  1,  1,  1,  1,  1,\n",
       "        1,  1,  1,  1,  1,  1,  1,  1,  1,  1,  1,  1,  1,  1,  1,  1,  1,\n",
       "        1,  1,  1,  1,  1,  1])"
      ]
     },
     "execution_count": 39,
     "metadata": {},
     "output_type": "execute_result"
    }
   ],
   "source": [
    "preds_lof = lof.predict(test.flatten())\n",
    "preds_lof"
   ]
  },
  {
   "cell_type": "code",
   "execution_count": 42,
   "id": "598a300e",
   "metadata": {},
   "outputs": [
    {
     "data": {
      "image/png": "[encoded data removed]",
      "text/plain": [
       "<Figure size 900x600 with 2 Axes>"
      ]
     },
     "metadata": {},
     "output_type": "display_data"
    }
   ],
   "source": [
    "actual_labels = df[3550:]['is_anomaly'].values  \n",
    "cm = confusion_matrix(actual_labels, preds_lof, labels=[1, -1])\n",
    "\n",
    "disp_cm = ConfusionMatrixDisplay(cm, display_labels=[1, -1])\n",
    "disp_cm.plot()\n",
    "plt.grid(False)\n",
    "plt.tight_layout()\n",
    "plt.show()\n"
   ]
  },
  {
   "cell_type": "markdown",
   "id": "bdadb920-b788-4db6-9227-4e1a86169790",
   "metadata": {},
   "source": [
    "### **Observation:**  \n",
    "The confusion matrix visually represents the classification results of the **LOF model** in detecting CPU usage anomalies. It shows the number of correct detections (true positives and true negatives) and misclassifications (false positives and false negatives). The distribution of these values provides insights into the model’s accuracy and error rate.  \n",
    "\n",
    "### **Conclusion:**  \n",
    "If the confusion matrix indicates a high number of false positives or false negatives, the **LOF model** may require hyperparameter tuning or an alternative detection approach. Comparing this confusion matrix with that of other models (e.g., Isolation Forest) helps determine which method is more effective in identifying CPU anomalies."
   ]
  },
  {
   "cell_type": "code",
   "execution_count": null,
   "id": "ea47db77-d71f-4bb2-81c2-8f537ddb4ef2",
   "metadata": {},
   "outputs": [],
   "source": []
  }
 ],
 "metadata": {
  "kernelspec": {
   "display_name": "Python (tf_env)",
   "language": "python",
   "name": "tf_env"
  },
  "language_info": {
   "codemirror_mode": {
    "name": "ipython",
    "version": 3
   },
   "file_extension": ".py",
   "mimetype": "text/x-python",
   "name": "python",
   "nbconvert_exporter": "python",
   "pygments_lexer": "ipython3",
   "version": "3.10.8"
  }
 },
 "nbformat": 4,
 "nbformat_minor": 5
}
